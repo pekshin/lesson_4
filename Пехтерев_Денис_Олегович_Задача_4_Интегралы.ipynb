{
 "cells": [
  {
   "cell_type": "markdown",
   "metadata": {},
   "source": [
    "2. Разработать программу реализующую интегрирование заданной функции методом средних прямоугольников (или иным методом, на выбор) с адаптивной сеткой. Сравнить скорость сходимости данного метода и метода с равномерной сеткой.\n",
    "*Указание: для выбора \"наибольшего\" интервала используйте модуль `heapq` из стандартной библиотеки. (При использовании языка `C++`, используйте `std::set`).* \n",
    "\n",
    "https://github.com/elluscinia/smoothsort/wiki/%D0%92%D0%BE%D1%81%D1%85%D0%B2%D0%B0%D0%BB%D0%B5%D0%BD%D0%B8%D0%B5-heapq.-%D0%9E-%D0%BA%D1%83%D1%87%D0%B0%D1%85 (спасибо Вячеславу М.)"
   ]
  },
  {
   "cell_type": "code",
   "execution_count": 4,
   "metadata": {},
   "outputs": [
    {
     "data": {
      "text/plain": [
       "<matplotlib.rc_context at 0x1c717e66978>"
      ]
     },
     "execution_count": 4,
     "metadata": {},
     "output_type": "execute_result"
    }
   ],
   "source": [
    "import numpy as np\n",
    "\n",
    "%matplotlib notebook\n",
    "\n",
    "import matplotlib.pyplot as plt\n",
    "plt.xkcd()"
   ]
  },
  {
   "cell_type": "markdown",
   "metadata": {},
   "source": [
    "heapq.heapify(x)\n",
    "\n",
    "Превращает список x в кучу, на месте, за линейное время.\n",
    "\n",
    "Как раз то, что нам нужно + определим основные функции, которые будут использоваться"
   ]
  },
  {
   "cell_type": "code",
   "execution_count": 3,
   "metadata": {},
   "outputs": [],
   "source": [
    "import heapq\n",
    "# A rectangle is (start, width)\n",
    "# A list element is (-weight, (start, width))\n",
    "\n",
    "def make_rect(a, b, f):\n",
    "    \"\"\"Make a rectangle for the interval [a, b]\"\"\"\n",
    "    rect = (a, b-a)\n",
    "    xm = a + rect[1] / 2.\n",
    "    return (-f(xm) * rect[1], rect)\n",
    "\n",
    "def get_max_elem_old(lst, key=None):\n",
    "    \"\"\"Find and remove the maximum element from the list.\n",
    "    \n",
    "    Find the max element (according to the parameter `key`, which is a callable),\n",
    "    remove it from the list, and return both the element and the rest.\n",
    "    \"\"\"\n",
    "    if key is None:\n",
    "        # use the identity function\n",
    "        key = lambda x: x\n",
    "    \n",
    "    # find the max element\n",
    "    elem = max(lst, key=key) # ключ, который нужен\n",
    "    \n",
    "    # find its position in the list\n",
    "    idx = lst.index(elem)\n",
    "    \n",
    "    return elem, lst[:idx] + lst[idx+1:] #([:idx] не включая концовку - Python же всё-таки!!!!\n",
    "\n",
    "def get_max_elem(lst):\n",
    "    \"\"\"Find rectangular with max square by heap sort, return this element and remaining list\"\"\"\n",
    "    heapq.heapify(lst)\n",
    "    max_element = lst[-1]\n",
    "    lst_w_t_max = lst[:-1]\n",
    "    return max_element, lst_w_t_max \n",
    "\n",
    "def adapt_rect_list(f, a, b, npts):\n",
    "    \"\"\"Integrate f(x) from a to b using npts steps of the adaptive algorithm.\n",
    "    \"\"\"\n",
    "    lst = []\n",
    "\n",
    "    # start from a single rectangle\n",
    "    item = make_rect(a, b, f)\n",
    "    lst.append(item)\n",
    "    \n",
    "    # loop\n",
    "    for _ in range(npts):\n",
    "        # get the largest one\n",
    "        rect, lst = get_max_elem(lst, lambda x: -x[0]) # lst -- список без него\n",
    "        w, (start, width) = rect # распаковали в рект (что-то, где можно итерироваться, первый элемент записать, а второй в тупель\n",
    "                \n",
    "        # and split it into two halves\n",
    "        c = start + width / 2.\n",
    "        \n",
    "        rect1 = make_rect(start, c, f)\n",
    "        rect2 = make_rect(c, start + width, f)\n",
    "        \n",
    "        lst.append(rect1)\n",
    "        lst.append(rect2)\n",
    "        \n",
    "    # collect the answer\n",
    "    return sum(w for w, r in lst), lst #суммирую значения w в цикле, где я бегу по списку и суммирую по первому элементу\n",
    "\n"
   ]
  },
  {
   "attachments": {},
   "cell_type": "markdown",
   "metadata": {},
   "source": [
    "Правило *средних прямоугольников*,\n",
    "\n",
    "$$\n",
    "\\int_{x_0}^{x_0 + h} f(x)\\,dx \\approx f(x_0 + \\frac{h}{2}) \\, h\\;,\n",
    "$$\n"
   ]
  },
  {
   "cell_type": "code",
   "execution_count": 7,
   "metadata": {},
   "outputs": [],
   "source": [
    "def crect(f, a, b, npts):\n",
    "\n",
    "    h = (b - a) / npts\n",
    "    summ = 0\n",
    "    for j in range(npts):\n",
    "        x = a + h*(j + 0.5)\n",
    "        summ += f(x)\n",
    "    return summ * h"
   ]
  },
  {
   "cell_type": "raw",
   "metadata": {},
   "source": [
    "Окей, теперь мы всё определили, зададим функцию, интеграл которой будем считать + так как он определённый, зададим точку начала и конца (a и b)"
   ]
  },
  {
   "cell_type": "code",
   "execution_count": 8,
   "metadata": {},
   "outputs": [],
   "source": [
    "a = 0\n",
    "b = 10\n",
    "def f(x):\n",
    "    \"\"\"Интегрируемая функция\"\"\"\n",
    "    x ** 3 + 1\n",
    "def exact: \n",
    "    \"\"\"Вычисляет реальное значение интеграла\"\"\"\n",
    "    x ** 4 * 1/4\n",
    "    \n"
   ]
  },
  {
   "cell_type": "code",
   "execution_count": null,
   "metadata": {},
   "outputs": [],
   "source": []
  }
 ],
 "metadata": {
  "kernelspec": {
   "display_name": "Python 3",
   "language": "python",
   "name": "python3"
  },
  "language_info": {
   "codemirror_mode": {
    "name": "ipython",
    "version": 3
   },
   "file_extension": ".py",
   "mimetype": "text/x-python",
   "name": "python",
   "nbconvert_exporter": "python",
   "pygments_lexer": "ipython3",
   "version": "3.7.0"
  }
 },
 "nbformat": 4,
 "nbformat_minor": 2
}
